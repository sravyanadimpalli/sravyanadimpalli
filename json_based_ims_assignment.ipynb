{
  "nbformat": 4,
  "nbformat_minor": 0,
  "metadata": {
    "colab": {
      "name": "json based ims assignment.ipynb",
      "provenance": [],
      "collapsed_sections": []
    },
    "kernelspec": {
      "name": "python3",
      "display_name": "Python 3"
    },
    "language_info": {
      "name": "python"
    }
  },
  "cells": [
    {
      "cell_type": "code",
      "metadata": {
        "id": "hxCD-sGapCTy"
      },
      "source": [
        "record = {'1001':{'name':'choco cake','price':100, 'quantity' :30,\"expiry date\":'nov 2021'},\n",
        "          '1002':{'name':'milk cake','price':100, 'quantity' :20,\"expiry date\":'oct 2021'},\n",
        "          '1003':{'name':'brownie','price':300, 'quantity' :10,\"expiry date\":'sep 2021'},\n",
        "          '1004':{'name':'candy','price':50, 'quantity' :50,\"expiry date\":'aug 2022'},\n",
        "          '1005':{'name':'dairy milk','price':10, 'quantity' :20,\"expiry date\":'aug 2022'},\n",
        "          '1006':{'name':'five star','price':5, 'quantity' :30,\"expiry date\":'nov 2022'}}"
      ],
      "execution_count": 1,
      "outputs": []
    },
    {
      "cell_type": "code",
      "metadata": {
        "id": "PYdVQcihpdem"
      },
      "source": [
        "import json"
      ],
      "execution_count": 2,
      "outputs": []
    },
    {
      "cell_type": "code",
      "metadata": {
        "id": "Wl5p6WSZpgbI"
      },
      "source": [
        "js = json.dumps(record)"
      ],
      "execution_count": 3,
      "outputs": []
    },
    {
      "cell_type": "code",
      "metadata": {
        "colab": {
          "base_uri": "https://localhost:8080/",
          "height": 90
        },
        "id": "AJF_m12vpi0b",
        "outputId": "f108567d-b3b6-4134-bfb1-5763edfab4d8"
      },
      "source": [
        "js"
      ],
      "execution_count": 4,
      "outputs": [
        {
          "output_type": "execute_result",
          "data": {
            "application/vnd.google.colaboratory.intrinsic+json": {
              "type": "string"
            },
            "text/plain": [
              "'{\"1001\": {\"name\": \"choco cake\", \"price\": 100, \"quantity\": 30, \"expiry date\": \"nov 2021\"}, \"1002\": {\"name\": \"milk cake\", \"price\": 100, \"quantity\": 20, \"expiry date\": \"oct 2021\"}, \"1003\": {\"name\": \"brownie\", \"price\": 300, \"quantity\": 10, \"expiry date\": \"sep 2021\"}, \"1004\": {\"name\": \"candy\", \"price\": 50, \"quantity\": 50, \"expiry date\": \"aug 2022\"}, \"1005\": {\"name\": \"dairy milk\", \"price\": 10, \"quantity\": 20, \"expiry date\": \"aug 2022\"}, \"1006\": {\"name\": \"five star\", \"price\": 5, \"quantity\": 30, \"expiry date\": \"nov 2022\"}}'"
            ]
          },
          "metadata": {},
          "execution_count": 4
        }
      ]
    },
    {
      "cell_type": "code",
      "metadata": {
        "id": "kstl37wFppIa"
      },
      "source": [
        "fd = open('record.json','w')\n",
        "fd.write(js)\n",
        "fd.close()"
      ],
      "execution_count": 5,
      "outputs": []
    },
    {
      "cell_type": "code",
      "metadata": {
        "id": "cKy3nm0Jpt9_"
      },
      "source": [
        "fd = open('record.json','r')\n",
        "txt = fd.read()\n",
        "fd.close()"
      ],
      "execution_count": 6,
      "outputs": []
    },
    {
      "cell_type": "code",
      "metadata": {
        "colab": {
          "base_uri": "https://localhost:8080/",
          "height": 90
        },
        "id": "0QqEfNRPpz4_",
        "outputId": "e5ac6712-dc56-4e2f-c6a2-0500b8676cbd"
      },
      "source": [
        "txt"
      ],
      "execution_count": 7,
      "outputs": [
        {
          "output_type": "execute_result",
          "data": {
            "application/vnd.google.colaboratory.intrinsic+json": {
              "type": "string"
            },
            "text/plain": [
              "'{\"1001\": {\"name\": \"choco cake\", \"price\": 100, \"quantity\": 30, \"expiry date\": \"nov 2021\"}, \"1002\": {\"name\": \"milk cake\", \"price\": 100, \"quantity\": 20, \"expiry date\": \"oct 2021\"}, \"1003\": {\"name\": \"brownie\", \"price\": 300, \"quantity\": 10, \"expiry date\": \"sep 2021\"}, \"1004\": {\"name\": \"candy\", \"price\": 50, \"quantity\": 50, \"expiry date\": \"aug 2022\"}, \"1005\": {\"name\": \"dairy milk\", \"price\": 10, \"quantity\": 20, \"expiry date\": \"aug 2022\"}, \"1006\": {\"name\": \"five star\", \"price\": 5, \"quantity\": 30, \"expiry date\": \"nov 2022\"}}'"
            ]
          },
          "metadata": {},
          "execution_count": 7
        }
      ]
    },
    {
      "cell_type": "code",
      "metadata": {
        "id": "0B8dofEdqE1D"
      },
      "source": [
        "record = json.loads(txt)"
      ],
      "execution_count": 8,
      "outputs": []
    },
    {
      "cell_type": "code",
      "metadata": {
        "colab": {
          "base_uri": "https://localhost:8080/"
        },
        "id": "lBVOsNuBqJEg",
        "outputId": "f244db2b-4f61-40b5-8288-c7b8b271de93"
      },
      "source": [
        "record"
      ],
      "execution_count": 9,
      "outputs": [
        {
          "output_type": "execute_result",
          "data": {
            "text/plain": [
              "{'1001': {'expiry date': 'nov 2021',\n",
              "  'name': 'choco cake',\n",
              "  'price': 100,\n",
              "  'quantity': 30},\n",
              " '1002': {'expiry date': 'oct 2021',\n",
              "  'name': 'milk cake',\n",
              "  'price': 100,\n",
              "  'quantity': 20},\n",
              " '1003': {'expiry date': 'sep 2021',\n",
              "  'name': 'brownie',\n",
              "  'price': 300,\n",
              "  'quantity': 10},\n",
              " '1004': {'expiry date': 'aug 2022',\n",
              "  'name': 'candy',\n",
              "  'price': 50,\n",
              "  'quantity': 50},\n",
              " '1005': {'expiry date': 'aug 2022',\n",
              "  'name': 'dairy milk',\n",
              "  'price': 10,\n",
              "  'quantity': 20},\n",
              " '1006': {'expiry date': 'nov 2022',\n",
              "  'name': 'five star',\n",
              "  'price': 5,\n",
              "  'quantity': 30}}"
            ]
          },
          "metadata": {},
          "execution_count": 9
        }
      ]
    },
    {
      "cell_type": "code",
      "metadata": {
        "id": "RtwIksUbrnb0"
      },
      "source": [
        ""
      ],
      "execution_count": null,
      "outputs": []
    },
    {
      "cell_type": "markdown",
      "metadata": {
        "id": "y2JwTv0brpeL"
      },
      "source": [
        "read data from json"
      ]
    },
    {
      "cell_type": "code",
      "metadata": {
        "id": "fZrB-V1DrxGy"
      },
      "source": [
        "fd = open('record.json', 'r')\n",
        "r = fd.read()\n",
        "fd.close()\n",
        "\n",
        "record = json.loads(r)"
      ],
      "execution_count": 57,
      "outputs": []
    },
    {
      "cell_type": "code",
      "metadata": {
        "colab": {
          "base_uri": "https://localhost:8080/"
        },
        "id": "Rf3LEhCpsBVe",
        "outputId": "8583ecb6-f55f-4319-c025-024192174e07"
      },
      "source": [
        "record"
      ],
      "execution_count": 58,
      "outputs": [
        {
          "output_type": "execute_result",
          "data": {
            "text/plain": [
              "{'1001': {'expiry date': 'nov 2021',\n",
              "  'name': 'choco cake',\n",
              "  'price': 100,\n",
              "  'quantity': 30},\n",
              " '1002': {'expiry date': 'oct 2021',\n",
              "  'name': 'milk cake',\n",
              "  'price': 100,\n",
              "  'quantity': 20},\n",
              " '1003': {'expiry date': 'sep 2021',\n",
              "  'name': 'brownie',\n",
              "  'price': 300,\n",
              "  'quantity': 10},\n",
              " '1004': {'expiry date': 'aug 2022',\n",
              "  'name': 'candy',\n",
              "  'price': 50,\n",
              "  'quantity': 50},\n",
              " '1005': {'expiry date': 'aug 2022',\n",
              "  'name': 'dairy milk',\n",
              "  'price': 10,\n",
              "  'quantity': 20},\n",
              " '1006': {'expiry date': 'nov 2022',\n",
              "  'name': 'five star',\n",
              "  'price': 5,\n",
              "  'quantity': 30}}"
            ]
          },
          "metadata": {},
          "execution_count": 58
        }
      ]
    },
    {
      "cell_type": "code",
      "metadata": {
        "id": "jAHTbiRCsPP7"
      },
      "source": [
        ""
      ],
      "execution_count": null,
      "outputs": []
    },
    {
      "cell_type": "markdown",
      "metadata": {
        "id": "IfqY2dx4sRQN"
      },
      "source": [
        "ADD NEW ITEMS INTO INVENTORY"
      ]
    },
    {
      "cell_type": "code",
      "metadata": {
        "colab": {
          "base_uri": "https://localhost:8080/"
        },
        "id": "FpThdReGsbPm",
        "outputId": "ce55db9f-6f51-43e2-fa70-f57783aeaf72"
      },
      "source": [
        "prod_id = str(input(\"Enter product id:\"))\n",
        "name = str(input(\"Enter name:\"))\n",
        "pr = int(input(\"Enter price:\"))\n",
        "qn = int(input(\"Enter quantity:\"))\n",
        "exp = str(input(\"enter expiry date:\"))\n",
        "\n",
        "record[prod_id] = {'name': name, 'price': pr, 'quantity': qn,'expiry date':exp}\n",
        "\n",
        "js = json.dumps(record)"
      ],
      "execution_count": 59,
      "outputs": [
        {
          "name": "stdout",
          "output_type": "stream",
          "text": [
            "Enter product id:1031\n",
            "Enter name:perk\n",
            "Enter price:5\n",
            "Enter quantity:100\n",
            "enter expiry date:jan 2022\n"
          ]
        }
      ]
    },
    {
      "cell_type": "code",
      "metadata": {
        "colab": {
          "base_uri": "https://localhost:8080/"
        },
        "id": "-W3wtKEavhr1",
        "outputId": "56f2dfbd-a6fd-40fd-dcaa-1a443c84a30a"
      },
      "source": [
        "record"
      ],
      "execution_count": 60,
      "outputs": [
        {
          "output_type": "execute_result",
          "data": {
            "text/plain": [
              "{'1001': {'expiry date': 'nov 2021',\n",
              "  'name': 'choco cake',\n",
              "  'price': 100,\n",
              "  'quantity': 30},\n",
              " '1002': {'expiry date': 'oct 2021',\n",
              "  'name': 'milk cake',\n",
              "  'price': 100,\n",
              "  'quantity': 20},\n",
              " '1003': {'expiry date': 'sep 2021',\n",
              "  'name': 'brownie',\n",
              "  'price': 300,\n",
              "  'quantity': 10},\n",
              " '1004': {'expiry date': 'aug 2022',\n",
              "  'name': 'candy',\n",
              "  'price': 50,\n",
              "  'quantity': 50},\n",
              " '1005': {'expiry date': 'aug 2022',\n",
              "  'name': 'dairy milk',\n",
              "  'price': 10,\n",
              "  'quantity': 20},\n",
              " '1006': {'expiry date': 'nov 2022',\n",
              "  'name': 'five star',\n",
              "  'price': 5,\n",
              "  'quantity': 30},\n",
              " '1031': {'expiry date': 'jan 2022',\n",
              "  'name': 'perk',\n",
              "  'price': 5,\n",
              "  'quantity': 100}}"
            ]
          },
          "metadata": {},
          "execution_count": 60
        }
      ]
    },
    {
      "cell_type": "code",
      "metadata": {
        "id": "EG_TbXmC47RX"
      },
      "source": [
        ""
      ],
      "execution_count": null,
      "outputs": []
    },
    {
      "cell_type": "markdown",
      "metadata": {
        "id": "RB0hwlry481z"
      },
      "source": [
        "READ INVENTORY"
      ]
    },
    {
      "cell_type": "code",
      "metadata": {
        "id": "sNM9qLwp4_-V"
      },
      "source": [
        "import json\n",
        "\n",
        "fd = open('record.json','r')\n",
        "r = fd.read()\n",
        "fd.close()\n",
        "\n",
        "records = json.loads(r)"
      ],
      "execution_count": 65,
      "outputs": []
    },
    {
      "cell_type": "code",
      "metadata": {
        "colab": {
          "base_uri": "https://localhost:8080/"
        },
        "id": "Px0NnKv45dmc",
        "outputId": "89dcbdd8-1423-4d9c-fa8f-b2ea02eefefa"
      },
      "source": [
        "records"
      ],
      "execution_count": 66,
      "outputs": [
        {
          "output_type": "execute_result",
          "data": {
            "text/plain": [
              "{'1001': {'expiry date': 'nov 2021',\n",
              "  'name': 'choco cake',\n",
              "  'price': 100,\n",
              "  'quantity': 30},\n",
              " '1002': {'expiry date': 'oct 2021',\n",
              "  'name': 'milk cake',\n",
              "  'price': 100,\n",
              "  'quantity': 20},\n",
              " '1003': {'expiry date': 'sep 2021',\n",
              "  'name': 'brownie',\n",
              "  'price': 300,\n",
              "  'quantity': 10},\n",
              " '1004': {'expiry date': 'aug 2022',\n",
              "  'name': 'candy',\n",
              "  'price': 50,\n",
              "  'quantity': 50},\n",
              " '1005': {'expiry date': 'aug 2022',\n",
              "  'name': 'dairy milk',\n",
              "  'price': 10,\n",
              "  'quantity': 20},\n",
              " '1006': {'expiry date': 'nov 2022',\n",
              "  'name': 'five star',\n",
              "  'price': 5,\n",
              "  'quantity': 30},\n",
              " '1007': {'expiry date': 'nov 2022',\n",
              "  'name': 'Bar one',\n",
              "  'price': 5,\n",
              "  'quantity': 60},\n",
              " '1008': {'expiry date': 'dec 2022',\n",
              "  'name': 'milky bar',\n",
              "  'price': 5,\n",
              "  'quantity': 25},\n",
              " '1009': {'expiry date': 'jan 2023',\n",
              "  'name': 'kitkat',\n",
              "  'price': 5,\n",
              "  'quantity': 60},\n",
              " '1010': {'expiry date': 'dec 2021',\n",
              "  'name': 'cookies',\n",
              "  'price': 100,\n",
              "  'quantity': 70},\n",
              " '1011': {'expiry date': 'oct 2021',\n",
              "  'name': 'bread',\n",
              "  'price': 30,\n",
              "  'quantity': 50},\n",
              " '1012': {'expiry date': 'oct 2021',\n",
              "  'name': 'rolls',\n",
              "  'price': 50,\n",
              "  'quantity': 50},\n",
              " '1013': {'expiry date': 'dec 2021',\n",
              "  'name': 'Good day',\n",
              "  'price': 30,\n",
              "  'quantity': 100},\n",
              " '1014': {'expiry date': 'jan 2022',\n",
              "  'name': 'dried fruits',\n",
              "  'price': 500,\n",
              "  'quantity': 120},\n",
              " '1015': {'expiry date': 'dec 2021',\n",
              "  'name': 'nuts',\n",
              "  'price': 700,\n",
              "  'quantity': 15},\n",
              " '1016': {'expiry date': 'nov 2021',\n",
              "  'name': 'popcorn',\n",
              "  'price': 30,\n",
              "  'quantity': 100},\n",
              " '1017': {'expiry date': 'jan 2022',\n",
              "  'name': 'corn chips',\n",
              "  'price': 50,\n",
              "  'quantity': 150},\n",
              " '1018': {'expiry date': 'nov 2021',\n",
              "  'name': 'butter',\n",
              "  'price': 100,\n",
              "  'quantity': 120},\n",
              " '1019': {'expiry date': 'oct 2021',\n",
              "  'name': 'yogurt',\n",
              "  'price': 35,\n",
              "  'quantity': 80},\n",
              " '1020': {'expiry date': 'oct 2021',\n",
              "  'name': 'cheese',\n",
              "  'price': 75,\n",
              "  'quantity': 100},\n",
              " '1021': {'expiry date': 'nov 2021',\n",
              "  'name': 'brown bread',\n",
              "  'price': 50,\n",
              "  'quantity': 100},\n",
              " '1022': {'expiry date': 'aug 2022',\n",
              "  'name': 'choclate bars',\n",
              "  'price': 80,\n",
              "  'quantity': 150},\n",
              " '1023': {'expiry date': 'dec 2021',\n",
              "  'name': 'oreo',\n",
              "  'price': 10,\n",
              "  'quantity': 150},\n",
              " '1024': {'expiry date': 'nov 2021',\n",
              "  'name': 'cup cakes',\n",
              "  'price': 25,\n",
              "  'quantity': 150},\n",
              " '1025': {'expiry date': 'nov 2021',\n",
              "  'name': 'muffins',\n",
              "  'price': 80,\n",
              "  'quantity': 50},\n",
              " '1026': {'expiry date': 'dec 2021',\n",
              "  'name': 'milk shakes',\n",
              "  'price': 50,\n",
              "  'quantity': 100},\n",
              " '1027': {'expiry date': 'aug 2022',\n",
              "  'name': 'peanut butter',\n",
              "  'price': 500,\n",
              "  'quantity': 40},\n",
              " '1028': {'expiry date': 'sep 2022',\n",
              "  'name': 'honey',\n",
              "  'price': 350,\n",
              "  'quantity': 80},\n",
              " '1029': {'expiry date': 'mar 2022',\n",
              "  'name': 'green tea',\n",
              "  'price': 300,\n",
              "  'quantity': 50},\n",
              " '1030': {'expiry date': 'jan 2023',\n",
              "  'name': 'dark fantasy',\n",
              "  'price': 100,\n",
              "  'quantity': 100},\n",
              " '1031': {'expiry date': 'dec 2021',\n",
              "  'name': 'oreo milkshake',\n",
              "  'price': 80,\n",
              "  'quantity': 10}}"
            ]
          },
          "metadata": {},
          "execution_count": 66
        }
      ]
    },
    {
      "cell_type": "code",
      "metadata": {
        "id": "kOR5TSt958hT"
      },
      "source": [
        ""
      ],
      "execution_count": null,
      "outputs": []
    },
    {
      "cell_type": "markdown",
      "metadata": {
        "id": "sdVqC7RG59sT"
      },
      "source": [
        "PURCHASE"
      ]
    },
    {
      "cell_type": "code",
      "metadata": {
        "colab": {
          "base_uri": "https://localhost:8080/"
        },
        "id": "p_woWz5v6AcD",
        "outputId": "313c1666-f42a-4906-8629-e96059b06153"
      },
      "source": [
        "ui_prod = str(input('enter the product_id: '))\n",
        "ui_quant = int(input('enter the quantity: '))\n",
        "\n",
        "print('product: ',records[ui_prod]['name'] )\n",
        "print('price: ',records[ui_prod]['price'] )\n",
        "print('billing amount: ', records[ui_prod]['price'] * ui_quant)\n",
        "\n",
        "records[ui_prod]['quantity'] = records[ui_prod]['quantity'] - ui_quant\n",
        "\n",
        "\n",
        "\n",
        "\n"
      ],
      "execution_count": 209,
      "outputs": [
        {
          "output_type": "stream",
          "name": "stdout",
          "text": [
            "enter the product_id: 1010\n",
            "enter the quantity: 7\n",
            "product:  cookies\n",
            "price:  100\n",
            "billing amount:  700\n"
          ]
        }
      ]
    },
    {
      "cell_type": "code",
      "metadata": {
        "colab": {
          "base_uri": "https://localhost:8080/"
        },
        "id": "cnsAD5B5JmBw",
        "outputId": "9bdc5f8f-688d-43ef-ebb4-a07ee21790eb"
      },
      "source": [
        "records"
      ],
      "execution_count": 210,
      "outputs": [
        {
          "output_type": "execute_result",
          "data": {
            "text/plain": [
              "{'1001': {'expiry date': 'nov 2021',\n",
              "  'name': 'choco cake',\n",
              "  'price': 100,\n",
              "  'quantity': 29},\n",
              " '1002': {'expiry date': 'oct 2021',\n",
              "  'name': 'milk cake',\n",
              "  'price': 100,\n",
              "  'quantity': 19},\n",
              " '1003': {'expiry date': 'sep 2021',\n",
              "  'name': 'brownie',\n",
              "  'price': 300,\n",
              "  'quantity': 10},\n",
              " '1004': {'expiry date': 'aug 2022',\n",
              "  'name': 'candy',\n",
              "  'price': 50,\n",
              "  'quantity': 50},\n",
              " '1005': {'expiry date': 'aug 2022',\n",
              "  'name': 'dairy milk',\n",
              "  'price': 10,\n",
              "  'quantity': 20},\n",
              " '1006': {'expiry date': 'nov 2022',\n",
              "  'name': 'five star',\n",
              "  'price': 5,\n",
              "  'quantity': 30},\n",
              " '1007': {'expiry date': 'nov 2022',\n",
              "  'name': 'Bar one',\n",
              "  'price': 5,\n",
              "  'quantity': 60},\n",
              " '1008': {'expiry date': 'dec 2022',\n",
              "  'name': 'milky bar',\n",
              "  'price': 5,\n",
              "  'quantity': 18},\n",
              " '1009': {'expiry date': 'jan 2023',\n",
              "  'name': 'kitkat',\n",
              "  'price': 5,\n",
              "  'quantity': 55},\n",
              " '1010': {'expiry date': 'dec 2021',\n",
              "  'name': 'cookies',\n",
              "  'price': 100,\n",
              "  'quantity': 61},\n",
              " '1011': {'expiry date': 'oct 2021',\n",
              "  'name': 'bread',\n",
              "  'price': 30,\n",
              "  'quantity': 50},\n",
              " '1012': {'expiry date': 'oct 2021',\n",
              "  'name': 'rolls',\n",
              "  'price': 50,\n",
              "  'quantity': 50},\n",
              " '1013': {'expiry date': 'dec 2021',\n",
              "  'name': 'Good day',\n",
              "  'price': 30,\n",
              "  'quantity': 100},\n",
              " '1014': {'expiry date': 'jan 2022',\n",
              "  'name': 'dried fruits',\n",
              "  'price': 500,\n",
              "  'quantity': 120},\n",
              " '1015': {'expiry date': 'dec 2021',\n",
              "  'name': 'nuts',\n",
              "  'price': 700,\n",
              "  'quantity': 15},\n",
              " '1016': {'expiry date': 'nov 2021',\n",
              "  'name': 'popcorn',\n",
              "  'price': 30,\n",
              "  'quantity': 96},\n",
              " '1017': {'expiry date': 'jan 2022',\n",
              "  'name': 'corn chips',\n",
              "  'price': 50,\n",
              "  'quantity': 130},\n",
              " '1018': {'expiry date': 'nov 2021',\n",
              "  'name': 'butter',\n",
              "  'price': 100,\n",
              "  'quantity': 112},\n",
              " '1019': {'expiry date': 'oct 2021',\n",
              "  'name': 'yogurt',\n",
              "  'price': 35,\n",
              "  'quantity': 77},\n",
              " '1020': {'expiry date': 'oct 2021',\n",
              "  'name': 'cheese',\n",
              "  'price': 75,\n",
              "  'quantity': 99},\n",
              " '1021': {'expiry date': 'nov 2021',\n",
              "  'name': 'brown bread',\n",
              "  'price': 50,\n",
              "  'quantity': 97},\n",
              " '1022': {'expiry date': 'aug 2022',\n",
              "  'name': 'choclate bars',\n",
              "  'price': 80,\n",
              "  'quantity': 149},\n",
              " '1023': {'expiry date': 'dec 2021',\n",
              "  'name': 'oreo',\n",
              "  'price': 10,\n",
              "  'quantity': 148},\n",
              " '1024': {'expiry date': 'nov 2021',\n",
              "  'name': 'cup cakes',\n",
              "  'price': 25,\n",
              "  'quantity': 145},\n",
              " '1025': {'expiry date': 'nov 2021',\n",
              "  'name': 'muffins',\n",
              "  'price': 80,\n",
              "  'quantity': 41},\n",
              " '1026': {'expiry date': 'dec 2021',\n",
              "  'name': 'milk shakes',\n",
              "  'price': 50,\n",
              "  'quantity': 87},\n",
              " '1027': {'expiry date': 'aug 2022',\n",
              "  'name': 'peanut butter',\n",
              "  'price': 500,\n",
              "  'quantity': 34},\n",
              " '1028': {'expiry date': 'sep 2022',\n",
              "  'name': 'honey',\n",
              "  'price': 350,\n",
              "  'quantity': 77},\n",
              " '1029': {'expiry date': 'mar 2022',\n",
              "  'name': 'green tea',\n",
              "  'price': 300,\n",
              "  'quantity': 49},\n",
              " '1030': {'expiry date': 'jan 2023',\n",
              "  'name': 'dark fantasy',\n",
              "  'price': 100,\n",
              "  'quantity': 98},\n",
              " '1031': {'expiry date': 'dec 2021',\n",
              "  'name': 'oreo milkshake',\n",
              "  'price': 80,\n",
              "  'quantity': 10}}"
            ]
          },
          "metadata": {},
          "execution_count": 210
        }
      ]
    },
    {
      "cell_type": "code",
      "metadata": {
        "id": "30C9p3KDM-Np"
      },
      "source": [
        ""
      ],
      "execution_count": null,
      "outputs": []
    },
    {
      "cell_type": "markdown",
      "metadata": {
        "id": "_yoGgWkJNEnj"
      },
      "source": [
        "UPDATE INVENTORY AFTER PURCHASE"
      ]
    },
    {
      "cell_type": "code",
      "metadata": {
        "id": "qV10xCQ5NLq9"
      },
      "source": [
        "js = json.dumps(records)\n",
        "\n",
        "fd = open('record.json','w')\n",
        "fd.write(js)\n",
        "fd.close()"
      ],
      "execution_count": 211,
      "outputs": []
    },
    {
      "cell_type": "code",
      "metadata": {
        "id": "nvL76rt2OvbP"
      },
      "source": [
        ""
      ],
      "execution_count": null,
      "outputs": []
    },
    {
      "cell_type": "markdown",
      "metadata": {
        "id": "559JbVxfOwrw"
      },
      "source": [
        "SALES JSON"
      ]
    },
    {
      "cell_type": "code",
      "metadata": {
        "colab": {
          "base_uri": "https://localhost:8080/"
        },
        "id": "1DqQSY9-O0gF",
        "outputId": "c65ae228-fa45-4e89-a306-d2e2eaf24133"
      },
      "source": [
        "{'prod': ui_prod, 'qn' : ui_quant, 'amount': records[ui_prod]['price'] * ui_quant}"
      ],
      "execution_count": 223,
      "outputs": [
        {
          "output_type": "execute_result",
          "data": {
            "text/plain": [
              "{'amount': 700, 'prod': '1010', 'qn': 7}"
            ]
          },
          "metadata": {},
          "execution_count": 223
        }
      ]
    },
    {
      "cell_type": "code",
      "metadata": {
        "id": "whZG9RReQxcB"
      },
      "source": [
        "sales = {1 : {'prod': ui_prod, 'qn' : ui_quant, 'amount': records[ui_prod]['price'] * ui_quant},\n",
        "         2 :  {'prod': ui_prod, 'qn' : ui_quant, 'amount': records[ui_prod]['price'] * ui_quant}}"
      ],
      "execution_count": 154,
      "outputs": []
    },
    {
      "cell_type": "code",
      "metadata": {
        "id": "Gjy3kquZarDx"
      },
      "source": [
        "sale = json.dumps(sales)"
      ],
      "execution_count": 224,
      "outputs": []
    },
    {
      "cell_type": "code",
      "metadata": {
        "colab": {
          "base_uri": "https://localhost:8080/"
        },
        "id": "bZ2yplqJYumZ",
        "outputId": "553f74eb-7dee-41f2-a6b7-4e2e2669ba71"
      },
      "source": [
        "sales"
      ],
      "execution_count": 220,
      "outputs": [
        {
          "output_type": "execute_result",
          "data": {
            "text/plain": [
              "{1: {'amount': 350, 'prod': '1028', 'qn': 1},\n",
              " 2: {'amount': 350, 'prod': '1028', 'qn': 1},\n",
              " 3: {'amount': 2500, 'prod': '1027', 'qn': 5},\n",
              " 4: {'amount': 200, 'prod': '1026', 'qn': 4},\n",
              " 5: {'amount': 125, 'prod': '1024', 'qn': 5},\n",
              " 6: {'amount': 20, 'prod': '1023', 'qn': 2},\n",
              " 7: {'amount': 80, 'prod': '1022', 'qn': 1},\n",
              " 8: {'amount': 105, 'prod': '1019', 'qn': 3},\n",
              " 9: {'amount': 800, 'prod': '1018', 'qn': 8},\n",
              " 10: {'amount': 700, 'prod': '1010', 'qn': 7}}"
            ]
          },
          "metadata": {},
          "execution_count": 220
        }
      ]
    },
    {
      "cell_type": "code",
      "metadata": {
        "id": "wbnpkm8Hdqcj"
      },
      "source": [
        "fd = open('sales.json','w')\n",
        "r = fd.write(sale)\n",
        "fd.close()"
      ],
      "execution_count": 225,
      "outputs": []
    }
  ]
}